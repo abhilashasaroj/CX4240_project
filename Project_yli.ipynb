{
 "cells": [
  {
   "cell_type": "code",
   "execution_count": 1,
   "metadata": {},
   "outputs": [
    {
     "name": "stdout",
     "output_type": "stream",
     "text": [
      "(6497, 13)\n",
      "(6463, 13)\n"
     ]
    }
   ],
   "source": [
    "# Load the Pandas libraries with alias 'pd' \n",
    "from sklearn.preprocessing import StandardScaler\n",
    "from sklearn import metrics\n",
    "from sklearn.linear_model import LinearRegression\n",
    "from sklearn.linear_model import Ridge, Lasso\n",
    "from sklearn.model_selection import train_test_split\n",
    "from sklearn.model_selection import cross_validate\n",
    "from sklearn.linear_model import LogisticRegression\n",
    "from sklearn.preprocessing import scale, PolynomialFeatures\n",
    "\n",
    "import matplotlib.pyplot as plt\n",
    "import seaborn as sns\n",
    "import pandas as pd\n",
    "import numpy as np\n",
    "\n",
    "# Read data from file 'filename.csv' \n",
    "# (in the same directory that your python process is based)\n",
    "# Control delimiters, rows, column names with read_csv (see later) \n",
    "data = pd.read_csv(\"winequalityN.csv\") \n",
    "print (data.shape)\n",
    "data = data.dropna()\n",
    "print (data.shape)"
   ]
  },
  {
   "cell_type": "code",
   "execution_count": 2,
   "metadata": {},
   "outputs": [
    {
     "data": {
      "text/html": [
       "<div>\n",
       "<style scoped>\n",
       "    .dataframe tbody tr th:only-of-type {\n",
       "        vertical-align: middle;\n",
       "    }\n",
       "\n",
       "    .dataframe tbody tr th {\n",
       "        vertical-align: top;\n",
       "    }\n",
       "\n",
       "    .dataframe thead th {\n",
       "        text-align: right;\n",
       "    }\n",
       "</style>\n",
       "<table border=\"1\" class=\"dataframe\">\n",
       "  <thead>\n",
       "    <tr style=\"text-align: right;\">\n",
       "      <th></th>\n",
       "      <th>type</th>\n",
       "      <th>fixed acidity</th>\n",
       "      <th>volatile acidity</th>\n",
       "      <th>citric acid</th>\n",
       "      <th>residual sugar</th>\n",
       "      <th>chlorides</th>\n",
       "      <th>free sulfur dioxide</th>\n",
       "      <th>total sulfur dioxide</th>\n",
       "      <th>density</th>\n",
       "      <th>pH</th>\n",
       "      <th>sulphates</th>\n",
       "      <th>alcohol</th>\n",
       "      <th>quality</th>\n",
       "    </tr>\n",
       "  </thead>\n",
       "  <tbody>\n",
       "    <tr>\n",
       "      <th>count</th>\n",
       "      <td>6463.000000</td>\n",
       "      <td>6463.000000</td>\n",
       "      <td>6463.000000</td>\n",
       "      <td>6463.000000</td>\n",
       "      <td>6463.000000</td>\n",
       "      <td>6463.000000</td>\n",
       "      <td>6463.000000</td>\n",
       "      <td>6463.000000</td>\n",
       "      <td>6463.000000</td>\n",
       "      <td>6463.000000</td>\n",
       "      <td>6463.000000</td>\n",
       "      <td>6463.000000</td>\n",
       "      <td>6463.000000</td>\n",
       "    </tr>\n",
       "    <tr>\n",
       "      <th>mean</th>\n",
       "      <td>0.246480</td>\n",
       "      <td>7.217755</td>\n",
       "      <td>0.339589</td>\n",
       "      <td>0.318758</td>\n",
       "      <td>5.443958</td>\n",
       "      <td>0.056056</td>\n",
       "      <td>30.516865</td>\n",
       "      <td>115.694492</td>\n",
       "      <td>0.994698</td>\n",
       "      <td>3.218332</td>\n",
       "      <td>0.531150</td>\n",
       "      <td>10.492825</td>\n",
       "      <td>5.818505</td>\n",
       "    </tr>\n",
       "    <tr>\n",
       "      <th>std</th>\n",
       "      <td>0.430995</td>\n",
       "      <td>1.297913</td>\n",
       "      <td>0.164639</td>\n",
       "      <td>0.145252</td>\n",
       "      <td>4.756852</td>\n",
       "      <td>0.035076</td>\n",
       "      <td>17.758815</td>\n",
       "      <td>56.526736</td>\n",
       "      <td>0.003001</td>\n",
       "      <td>0.160650</td>\n",
       "      <td>0.148913</td>\n",
       "      <td>1.193128</td>\n",
       "      <td>0.873286</td>\n",
       "    </tr>\n",
       "    <tr>\n",
       "      <th>min</th>\n",
       "      <td>0.000000</td>\n",
       "      <td>3.800000</td>\n",
       "      <td>0.080000</td>\n",
       "      <td>0.000000</td>\n",
       "      <td>0.600000</td>\n",
       "      <td>0.009000</td>\n",
       "      <td>1.000000</td>\n",
       "      <td>6.000000</td>\n",
       "      <td>0.987110</td>\n",
       "      <td>2.720000</td>\n",
       "      <td>0.220000</td>\n",
       "      <td>8.000000</td>\n",
       "      <td>3.000000</td>\n",
       "    </tr>\n",
       "    <tr>\n",
       "      <th>25%</th>\n",
       "      <td>0.000000</td>\n",
       "      <td>6.400000</td>\n",
       "      <td>0.230000</td>\n",
       "      <td>0.250000</td>\n",
       "      <td>1.800000</td>\n",
       "      <td>0.038000</td>\n",
       "      <td>17.000000</td>\n",
       "      <td>77.000000</td>\n",
       "      <td>0.992330</td>\n",
       "      <td>3.110000</td>\n",
       "      <td>0.430000</td>\n",
       "      <td>9.500000</td>\n",
       "      <td>5.000000</td>\n",
       "    </tr>\n",
       "    <tr>\n",
       "      <th>50%</th>\n",
       "      <td>0.000000</td>\n",
       "      <td>7.000000</td>\n",
       "      <td>0.290000</td>\n",
       "      <td>0.310000</td>\n",
       "      <td>3.000000</td>\n",
       "      <td>0.047000</td>\n",
       "      <td>29.000000</td>\n",
       "      <td>118.000000</td>\n",
       "      <td>0.994890</td>\n",
       "      <td>3.210000</td>\n",
       "      <td>0.510000</td>\n",
       "      <td>10.300000</td>\n",
       "      <td>6.000000</td>\n",
       "    </tr>\n",
       "    <tr>\n",
       "      <th>75%</th>\n",
       "      <td>0.000000</td>\n",
       "      <td>7.700000</td>\n",
       "      <td>0.400000</td>\n",
       "      <td>0.390000</td>\n",
       "      <td>8.100000</td>\n",
       "      <td>0.065000</td>\n",
       "      <td>41.000000</td>\n",
       "      <td>156.000000</td>\n",
       "      <td>0.997000</td>\n",
       "      <td>3.320000</td>\n",
       "      <td>0.600000</td>\n",
       "      <td>11.300000</td>\n",
       "      <td>6.000000</td>\n",
       "    </tr>\n",
       "    <tr>\n",
       "      <th>max</th>\n",
       "      <td>1.000000</td>\n",
       "      <td>15.900000</td>\n",
       "      <td>1.580000</td>\n",
       "      <td>1.660000</td>\n",
       "      <td>65.800000</td>\n",
       "      <td>0.611000</td>\n",
       "      <td>289.000000</td>\n",
       "      <td>440.000000</td>\n",
       "      <td>1.038980</td>\n",
       "      <td>4.010000</td>\n",
       "      <td>2.000000</td>\n",
       "      <td>14.900000</td>\n",
       "      <td>9.000000</td>\n",
       "    </tr>\n",
       "  </tbody>\n",
       "</table>\n",
       "</div>"
      ],
      "text/plain": [
       "              type  fixed acidity  volatile acidity  citric acid  \\\n",
       "count  6463.000000    6463.000000       6463.000000  6463.000000   \n",
       "mean      0.246480       7.217755          0.339589     0.318758   \n",
       "std       0.430995       1.297913          0.164639     0.145252   \n",
       "min       0.000000       3.800000          0.080000     0.000000   \n",
       "25%       0.000000       6.400000          0.230000     0.250000   \n",
       "50%       0.000000       7.000000          0.290000     0.310000   \n",
       "75%       0.000000       7.700000          0.400000     0.390000   \n",
       "max       1.000000      15.900000          1.580000     1.660000   \n",
       "\n",
       "       residual sugar    chlorides  free sulfur dioxide  total sulfur dioxide  \\\n",
       "count     6463.000000  6463.000000          6463.000000           6463.000000   \n",
       "mean         5.443958     0.056056            30.516865            115.694492   \n",
       "std          4.756852     0.035076            17.758815             56.526736   \n",
       "min          0.600000     0.009000             1.000000              6.000000   \n",
       "25%          1.800000     0.038000            17.000000             77.000000   \n",
       "50%          3.000000     0.047000            29.000000            118.000000   \n",
       "75%          8.100000     0.065000            41.000000            156.000000   \n",
       "max         65.800000     0.611000           289.000000            440.000000   \n",
       "\n",
       "           density           pH    sulphates      alcohol      quality  \n",
       "count  6463.000000  6463.000000  6463.000000  6463.000000  6463.000000  \n",
       "mean      0.994698     3.218332     0.531150    10.492825     5.818505  \n",
       "std       0.003001     0.160650     0.148913     1.193128     0.873286  \n",
       "min       0.987110     2.720000     0.220000     8.000000     3.000000  \n",
       "25%       0.992330     3.110000     0.430000     9.500000     5.000000  \n",
       "50%       0.994890     3.210000     0.510000    10.300000     6.000000  \n",
       "75%       0.997000     3.320000     0.600000    11.300000     6.000000  \n",
       "max       1.038980     4.010000     2.000000    14.900000     9.000000  "
      ]
     },
     "execution_count": 2,
     "metadata": {},
     "output_type": "execute_result"
    }
   ],
   "source": [
    "## Replacing categorical variale wine type white to 0 and red to 1\n",
    "data = data.replace('white', 0)\n",
    "data = data.replace('red', 1)\n",
    "#print (data.shape)\n",
    "\n",
    "## Divide data into data and lael\n",
    "#winedata = data.drop(['quality'],axis=1)\n",
    "#print (wineData)\n",
    "winequality_df = data['quality']\n",
    "#print (wineQuality_index)\n",
    "winedata_df = data\n",
    "winedata_df.describe()\n",
    "#winequality.describe"
   ]
  },
  {
   "cell_type": "code",
   "execution_count": 3,
   "metadata": {},
   "outputs": [
    {
     "data": {
      "text/plain": [
       "Text(0.5, 1.0, 'Correlation between variables')"
      ]
     },
     "execution_count": 3,
     "metadata": {},
     "output_type": "execute_result"
    },
    {
     "data": {
      "image/png": "[encoded data removed]",
      "text/plain": [
       "<Figure size 576x576 with 2 Axes>"
      ]
     },
     "metadata": {
      "needs_background": "light"
     },
     "output_type": "display_data"
    }
   ],
   "source": [
    "corr = winedata_df.corr()\n",
    "fig, ax = plt.subplots(figsize = (8,8))\n",
    "corrplot = sns.heatmap(corr, annot= True)\n",
    "ax.set_title('Correlation between variables')"
   ]
  },
  {
   "cell_type": "code",
   "execution_count": 4,
   "metadata": {},
   "outputs": [
    {
     "name": "stderr",
     "output_type": "stream",
     "text": [
      "/Applications/anaconda3/lib/python3.7/site-packages/seaborn/axisgrid.py:2065: UserWarning: The `size` parameter has been renamed to `height`; pleaes update your code.\n",
      "  warnings.warn(msg, UserWarning)\n"
     ]
    },
    {
     "data": {
      "text/plain": [
       "<seaborn.axisgrid.PairGrid at 0x1a1bde61d0>"
      ]
     },
     "execution_count": 4,
     "metadata": {},
     "output_type": "execute_result"
    },
    {
     "data": {
      "image/png": "[encoded data removed]",
      "text/plain": [
       "<Figure size 2376x720 with 11 Axes>"
      ]
     },
     "metadata": {
      "needs_background": "light"
     },
     "output_type": "display_data"
    }
   ],
   "source": [
    "features = ['fixed acidity', 'volatile acidity', 'citric acid', 'residual sugar',\n",
    "       'chlorides', 'free sulfur dioxide', 'total sulfur dioxide', 'density',\n",
    "       'pH', 'sulphates', 'alcohol']\n",
    "x = winedata_df[features]\n",
    "y = winedata_df['quality']\n",
    "#plotting features vs quality\n",
    "sns.pairplot(winedata_df,x_vars=features,y_vars='quality',kind='reg',size=10,aspect=0.3)"
   ]
  },
  {
   "cell_type": "markdown",
   "metadata": {},
   "source": [
    "# (1) Linear Regression Fitting"
   ]
  },
  {
   "cell_type": "code",
   "execution_count": 5,
   "metadata": {
    "scrolled": false
   },
   "outputs": [
    {
     "name": "stdout",
     "output_type": "stream",
     "text": [
      "[[6]\n",
      " [6]\n",
      " [6]\n",
      " ...\n",
      " [6]\n",
      " [5]\n",
      " [6]]\n",
      "(5170, 12) 1293 5170 1293\n"
     ]
    }
   ],
   "source": [
    "winedata = winedata_df.drop(['quality'],axis=1)\n",
    "#print (winedata)\n",
    "winedata = winedata.values\n",
    "#print (winedata)\n",
    "winequality = winequality_df.values.reshape(-1,1)\n",
    "print (winequality)\n",
    "## Divide data in traning and test sets\n",
    "X_train, X_test, y_train, y_test = train_test_split(winedata, winequality, test_size=0.2, random_state=1)\n",
    "print ((X_train.shape), len(X_test),len(y_train), len(y_test))"
   ]
  },
  {
   "cell_type": "code",
   "execution_count": 6,
   "metadata": {},
   "outputs": [
    {
     "name": "stdout",
     "output_type": "stream",
     "text": [
      "(5170, 1) (1293, 1)\n"
     ]
    }
   ],
   "source": [
    "##Standardize the data \n",
    "scaler = StandardScaler()\n",
    "# Fit on training set only.\n",
    "scaler.fit(X_train)\n",
    "# Apply transform to both the training set and the test set.\n",
    "X_train_transform = scaler.transform(X_train)\n",
    "X_test_transform = scaler.transform(X_test)\n",
    "\n",
    "#print (type(y_train), type(y_test))\n",
    "print (y_train.shape, y_test.shape)"
   ]
  },
  {
   "cell_type": "code",
   "execution_count": 7,
   "metadata": {},
   "outputs": [
    {
     "name": "stdout",
     "output_type": "stream",
     "text": [
      "(1293, 1)\n",
      "[5.81663443]\n"
     ]
    },
    {
     "data": {
      "text/html": [
       "<div>\n",
       "<style scoped>\n",
       "    .dataframe tbody tr th:only-of-type {\n",
       "        vertical-align: middle;\n",
       "    }\n",
       "\n",
       "    .dataframe tbody tr th {\n",
       "        vertical-align: top;\n",
       "    }\n",
       "\n",
       "    .dataframe thead th {\n",
       "        text-align: right;\n",
       "    }\n",
       "</style>\n",
       "<table border=\"1\" class=\"dataframe\">\n",
       "  <thead>\n",
       "    <tr style=\"text-align: right;\">\n",
       "      <th></th>\n",
       "      <th>coefficient</th>\n",
       "    </tr>\n",
       "  </thead>\n",
       "  <tbody>\n",
       "    <tr>\n",
       "      <th>type</th>\n",
       "      <td>0.152474</td>\n",
       "    </tr>\n",
       "    <tr>\n",
       "      <th>fixed acidity</th>\n",
       "      <td>0.110208</td>\n",
       "    </tr>\n",
       "    <tr>\n",
       "      <th>volatile acidity</th>\n",
       "      <td>-0.254844</td>\n",
       "    </tr>\n",
       "    <tr>\n",
       "      <th>citric acid</th>\n",
       "      <td>-0.012826</td>\n",
       "    </tr>\n",
       "    <tr>\n",
       "      <th>residual sugar</th>\n",
       "      <td>0.276331</td>\n",
       "    </tr>\n",
       "    <tr>\n",
       "      <th>chlorides</th>\n",
       "      <td>-0.024269</td>\n",
       "    </tr>\n",
       "    <tr>\n",
       "      <th>free sulfur dioxide</th>\n",
       "      <td>0.085453</td>\n",
       "    </tr>\n",
       "    <tr>\n",
       "      <th>total sulfur dioxide</th>\n",
       "      <td>-0.073995</td>\n",
       "    </tr>\n",
       "    <tr>\n",
       "      <th>density</th>\n",
       "      <td>-0.297435</td>\n",
       "    </tr>\n",
       "    <tr>\n",
       "      <th>pH</th>\n",
       "      <td>0.079284</td>\n",
       "    </tr>\n",
       "    <tr>\n",
       "      <th>sulphates</th>\n",
       "      <td>0.098789</td>\n",
       "    </tr>\n",
       "    <tr>\n",
       "      <th>alcohol</th>\n",
       "      <td>0.267576</td>\n",
       "    </tr>\n",
       "  </tbody>\n",
       "</table>\n",
       "</div>"
      ],
      "text/plain": [
       "                      coefficient\n",
       "type                     0.152474\n",
       "fixed acidity            0.110208\n",
       "volatile acidity        -0.254844\n",
       "citric acid             -0.012826\n",
       "residual sugar           0.276331\n",
       "chlorides               -0.024269\n",
       "free sulfur dioxide      0.085453\n",
       "total sulfur dioxide    -0.073995\n",
       "density                 -0.297435\n",
       "pH                       0.079284\n",
       "sulphates                0.098789\n",
       "alcohol                  0.267576"
      ]
     },
     "execution_count": 7,
     "metadata": {},
     "output_type": "execute_result"
    }
   ],
   "source": [
    "#fitting data into linear regression model\n",
    "reg = LinearRegression()\n",
    "reg = reg.fit(X_train_transform,y_train)\n",
    "\n",
    "pred_y = reg.predict(X_test_transform)\n",
    "#mse = mean_squared_error(X_test, pred_y)\n",
    "print (pred_y.shape)\n",
    "\n",
    "#plt.scatter(X_test[:,1], y_test,color=\"red\")\n",
    "#plt.show()\n",
    "#plt.scatter(X_test[:,1], pred_y, color=\"green\", linewidth = 3)\n",
    "#plt.show()\n",
    "\n",
    "coeff = reg.coef_\n",
    "coeff = np.reshape(coeff, [12,1])\n",
    "coeff = pd.DataFrame( data = coeff, index = ['type','fixed acidity', 'volatile acidity', 'citric acid', 'residual sugar',\n",
    "       'chlorides', 'free sulfur dioxide', 'total sulfur dioxide', 'density',\n",
    "       'pH', 'sulphates', 'alcohol'], columns = ['coefficient'] )\n",
    "coeff\n",
    "\n",
    "\n",
    "intercept = reg.intercept_\n",
    "print(intercept)\n",
    "coeff"
   ]
  },
  {
   "cell_type": "code",
   "execution_count": 8,
   "metadata": {},
   "outputs": [
    {
     "data": {
      "text/plain": [
       "Text(0, 0.5, 'Predictions')"
      ]
     },
     "execution_count": 8,
     "metadata": {},
     "output_type": "execute_result"
    },
    {
     "data": {
      "image/png": "[encoded data removed]",
      "text/plain": [
       "<Figure size 432x288 with 1 Axes>"
      ]
     },
     "metadata": {
      "needs_background": "light"
     },
     "output_type": "display_data"
    }
   ],
   "source": [
    "## The line / model\n",
    "plt.scatter(y_test, pred_y, linewidth = 0.0001)\n",
    "plt.xlabel(\"True Values\")\n",
    "plt.ylabel(\"Predictions\")"
   ]
  },
  {
   "cell_type": "code",
   "execution_count": 71,
   "metadata": {},
   "outputs": [
    {
     "name": "stdout",
     "output_type": "stream",
     "text": [
      "Mean Absolute Error: 0.7793787220447564\n",
      "Mean Squared Error: 0.9619627444645652\n",
      "Root Mean Squared Error: 0.9807969945226\n",
      "(1293, 2)\n"
     ]
    }
   ],
   "source": [
    "print('Mean Absolute Error:', metrics.mean_absolute_error(y_test, pred_y))  \n",
    "print('Mean Squared Error:', metrics.mean_squared_error(y_test, pred_y))  \n",
    "print('Root Mean Squared Error:', np.sqrt(metrics.mean_squared_error(y_test, pred_y)))\n",
    "#print(y_test.shape)\n",
    "ydata = np.append( (y_test), (pred_y), axis = 1)\n",
    "print(ydata.shape)\n",
    "df = pd.DataFrame(ydata,columns = ['y_test', 'predicted_y'])\n",
    "#print (df.head(20))\n",
    "x = np.linspace(0,1293,num = 1293,endpoint=True)\n",
    "#plt.scatter(x, y_test ,color=\"green\", linewidth =1 )\n",
    "#plt.show()\n",
    "#plt.scatter(x, y_test ,color=\"red\", linewidth = 1 )\n",
    "#plt.show()"
   ]
  },
  {
   "cell_type": "code",
   "execution_count": 69,
   "metadata": {},
   "outputs": [
    {
     "name": "stdout",
     "output_type": "stream",
     "text": [
      "Test_score: 0.34\n",
      "Train_score: 0.29\n"
     ]
    }
   ],
   "source": [
    "test_score = reg.score(X_test, y_test)\n",
    "train_score = reg.score(X_train, y_train)\n",
    "print('Test_score: {:.2f}'.format(test_score))\n",
    "\n",
    "print('Train_score: {:.2f}'.format(train_score))"
   ]
  },
  {
   "cell_type": "markdown",
   "metadata": {},
   "source": [
    "# (2)Polynormial Regression Fitting"
   ]
  },
  {
   "cell_type": "code",
   "execution_count": 77,
   "metadata": {},
   "outputs": [
    {
     "name": "stdout",
     "output_type": "stream",
     "text": [
      "Mean Absolute Error: 0.7793787220447564\n",
      "Mean Squared Error: 0.9619627444645652\n",
      "Root Mean Squared Error: 0.9807969945226\n"
     ]
    }
   ],
   "source": [
    "\n",
    "X_train, X_test, y_train, y_test = train_test_split(winedata, winequality, test_size=0.2, random_state = 3)\n",
    "scaler = StandardScaler()\n",
    "scaler.fit(X_train)\n",
    "# Apply transform to both the training set and the test set.\n",
    "X_train = scaler.transform(X_train)\n",
    "X_test = scaler.transform(X_test)\n",
    "\n",
    "model = PolynomialFeatures(degree = 3)\n",
    "lg = LinearRegression()\n",
    "lg.fit(X_train,y_train)\n",
    "predicted_y = lg.predict(X_test)\n",
    "#print (X_test, predicted_y, y_test)\n",
    "\n",
    "print('Mean Absolute Error:', metrics.mean_absolute_error(y_test, pred_y))  \n",
    "print('Mean Squared Error:', metrics.mean_squared_error(y_test, pred_y))  \n",
    "print('Root Mean Squared Error:', np.sqrt(metrics.mean_squared_error(y_test, pred_y)))\n",
    "\n",
    "\n"
   ]
  },
  {
   "cell_type": "code",
   "execution_count": 72,
   "metadata": {},
   "outputs": [
    {
     "name": "stdout",
     "output_type": "stream",
     "text": [
      "(1293, 2)\n"
     ]
    }
   ],
   "source": [
    "ydata = np.append( (y_test), (pred_y), axis = 1)\n",
    "print(ydata.shape)\n",
    "df = pd.DataFrame(ydata,columns = ['y_test', 'predicted_y'])\n",
    "#print (df.head(20))\n",
    "x = np.linspace(0,1293,num = 1293,endpoint=True)"
   ]
  },
  {
   "cell_type": "code",
   "execution_count": 13,
   "metadata": {},
   "outputs": [
    {
     "data": {
      "text/plain": [
       "Text(0, 0.5, 'Predictions')"
      ]
     },
     "execution_count": 13,
     "metadata": {},
     "output_type": "execute_result"
    },
    {
     "data": {
      "image/png": "[encoded data removed]",
      "text/plain": [
       "<Figure size 432x288 with 1 Axes>"
      ]
     },
     "metadata": {
      "needs_background": "light"
     },
     "output_type": "display_data"
    }
   ],
   "source": [
    "plt.scatter(y_test, pred_y, linewidth = 0.0001)\n",
    "plt.xlabel(\"True Values\")\n",
    "plt.ylabel(\"Predictions\")"
   ]
  },
  {
   "cell_type": "markdown",
   "metadata": {},
   "source": [
    "# (3) Ridge Regression Fitting"
   ]
  },
  {
   "cell_type": "code",
   "execution_count": 75,
   "metadata": {},
   "outputs": [
    {
     "name": "stdout",
     "output_type": "stream",
     "text": [
      "Mean Absolute Error: 0.8000364812231824\n",
      "Mean Squared Error: 0.9928636378342882\n",
      "Root Mean Squared Error: 0.9964254301423103\n"
     ]
    }
   ],
   "source": [
    "X_train, X_test, y_train, y_test = train_test_split(winedata, winequality, test_size=0.2, random_state = 5)\n",
    "scaler = StandardScaler()\n",
    "scaler.fit(X_train)\n",
    "# Apply transform to both the training set and the test set.\n",
    "X_train = scaler.transform(X_train)\n",
    "X_test = scaler.transform(X_test)\n",
    "RR = Ridge(alpha = 100)\n",
    "RR.fit(X_train,y_train)\n",
    "predicted_y = RR.predict(X_test)\n",
    "\n",
    "print('Mean Absolute Error:', metrics.mean_absolute_error(y_test, pred_y))  \n",
    "print('Mean Squared Error:', metrics.mean_squared_error(y_test, pred_y))  \n",
    "print('Root Mean Squared Error:', np.sqrt(metrics.mean_squared_error(y_test, pred_y)))\n"
   ]
  },
  {
   "cell_type": "code",
   "execution_count": 74,
   "metadata": {},
   "outputs": [
    {
     "name": "stdout",
     "output_type": "stream",
     "text": [
      "(1293, 2)\n"
     ]
    }
   ],
   "source": [
    "ydata = np.append( (y_test), (pred_y), axis = 1)\n",
    "print(ydata.shape)\n",
    "df = pd.DataFrame(ydata,columns = ['y_test', 'predicted_y'])\n",
    "#print (df.head(20))\n",
    "x = np.linspace(0,1293,num = 1293,endpoint=True)"
   ]
  },
  {
   "cell_type": "code",
   "execution_count": 16,
   "metadata": {},
   "outputs": [
    {
     "name": "stdout",
     "output_type": "stream",
     "text": [
      "Test_score: 0.33\n",
      "Train_score: 0.29\n"
     ]
    }
   ],
   "source": [
    "test_score = RR.score(X_test, y_test)\n",
    "train_score = RR.score(X_train, y_train)\n",
    "print('Test_score: {:.2f}'.format(test_score))\n",
    "\n",
    "print('Train_score: {:.2f}'.format(train_score))"
   ]
  },
  {
   "cell_type": "code",
   "execution_count": 17,
   "metadata": {},
   "outputs": [
    {
     "data": {
      "text/html": [
       "<div>\n",
       "<style scoped>\n",
       "    .dataframe tbody tr th:only-of-type {\n",
       "        vertical-align: middle;\n",
       "    }\n",
       "\n",
       "    .dataframe tbody tr th {\n",
       "        vertical-align: top;\n",
       "    }\n",
       "\n",
       "    .dataframe thead th {\n",
       "        text-align: right;\n",
       "    }\n",
       "</style>\n",
       "<table border=\"1\" class=\"dataframe\">\n",
       "  <thead>\n",
       "    <tr style=\"text-align: right;\">\n",
       "      <th></th>\n",
       "      <th>coefficient</th>\n",
       "    </tr>\n",
       "  </thead>\n",
       "  <tbody>\n",
       "    <tr>\n",
       "      <th>type</th>\n",
       "      <td>0.124857</td>\n",
       "    </tr>\n",
       "    <tr>\n",
       "      <th>fixed acidity</th>\n",
       "      <td>0.053168</td>\n",
       "    </tr>\n",
       "    <tr>\n",
       "      <th>volatile acidity</th>\n",
       "      <td>-0.254557</td>\n",
       "    </tr>\n",
       "    <tr>\n",
       "      <th>citric acid</th>\n",
       "      <td>-0.008094</td>\n",
       "    </tr>\n",
       "    <tr>\n",
       "      <th>residual sugar</th>\n",
       "      <td>0.218434</td>\n",
       "    </tr>\n",
       "    <tr>\n",
       "      <th>chlorides</th>\n",
       "      <td>-0.032502</td>\n",
       "    </tr>\n",
       "    <tr>\n",
       "      <th>free sulfur dioxide</th>\n",
       "      <td>0.074121</td>\n",
       "    </tr>\n",
       "    <tr>\n",
       "      <th>total sulfur dioxide</th>\n",
       "      <td>-0.067965</td>\n",
       "    </tr>\n",
       "    <tr>\n",
       "      <th>density</th>\n",
       "      <td>-0.184050</td>\n",
       "    </tr>\n",
       "    <tr>\n",
       "      <th>pH</th>\n",
       "      <td>0.058800</td>\n",
       "    </tr>\n",
       "    <tr>\n",
       "      <th>sulphates</th>\n",
       "      <td>0.101814</td>\n",
       "    </tr>\n",
       "    <tr>\n",
       "      <th>alcohol</th>\n",
       "      <td>0.303374</td>\n",
       "    </tr>\n",
       "  </tbody>\n",
       "</table>\n",
       "</div>"
      ],
      "text/plain": [
       "                      coefficient\n",
       "type                     0.124857\n",
       "fixed acidity            0.053168\n",
       "volatile acidity        -0.254557\n",
       "citric acid             -0.008094\n",
       "residual sugar           0.218434\n",
       "chlorides               -0.032502\n",
       "free sulfur dioxide      0.074121\n",
       "total sulfur dioxide    -0.067965\n",
       "density                 -0.184050\n",
       "pH                       0.058800\n",
       "sulphates                0.101814\n",
       "alcohol                  0.303374"
      ]
     },
     "execution_count": 17,
     "metadata": {},
     "output_type": "execute_result"
    }
   ],
   "source": [
    "coeff = RR.coef_\n",
    "coeff = np.reshape(coeff, [12,1])\n",
    "coeff = pd.DataFrame( data = coeff, index = ['type','fixed acidity', 'volatile acidity', 'citric acid', 'residual sugar',\n",
    "       'chlorides', 'free sulfur dioxide', 'total sulfur dioxide', 'density',\n",
    "       'pH', 'sulphates', 'alcohol'], columns = ['coefficient'] )\n",
    "coeff"
   ]
  },
  {
   "cell_type": "code",
   "execution_count": 18,
   "metadata": {},
   "outputs": [
    {
     "data": {
      "text/plain": [
       "Text(0, 0.5, 'Predictions')"
      ]
     },
     "execution_count": 18,
     "metadata": {},
     "output_type": "execute_result"
    },
    {
     "data": {
      "image/png": "[encoded data removed]",
      "text/plain": [
       "<Figure size 432x288 with 1 Axes>"
      ]
     },
     "metadata": {
      "needs_background": "light"
     },
     "output_type": "display_data"
    }
   ],
   "source": [
    "plt.scatter(y_test, pred_y, linewidth = 0.0001)\n",
    "plt.xlabel(\"True Values\")\n",
    "plt.ylabel(\"Predictions\")"
   ]
  },
  {
   "cell_type": "markdown",
   "metadata": {},
   "source": [
    "# cross validation for Ridge Regression"
   ]
  },
  {
   "cell_type": "code",
   "execution_count": 19,
   "metadata": {},
   "outputs": [
    {
     "name": "stderr",
     "output_type": "stream",
     "text": [
      "/Applications/anaconda3/lib/python3.7/site-packages/sklearn/utils/deprecation.py:125: FutureWarning: You are accessing a training score ('train_score'), which will not be available by default any more in 0.21. If you need training scores, please set return_train_score=True\n",
      "  warnings.warn(*warn_args, **warn_kwargs)\n"
     ]
    },
    {
     "data": {
      "text/plain": [
       "{'fit_time': array([0.00241899, 0.00125504, 0.001086  ]),\n",
       " 'score_time': array([0.00051093, 0.00034571, 0.00041294]),\n",
       " 'test_score': array([0.18209569, 0.28679245, 0.2166377 ]),\n",
       " 'train_score': array([0.31013845, 0.25590619, 0.26045597])}"
      ]
     },
     "execution_count": 19,
     "metadata": {},
     "output_type": "execute_result"
    }
   ],
   "source": [
    "cv_results = cross_validate(RR, winedata, winequality, cv=3)\n",
    "cv_results"
   ]
  },
  {
   "cell_type": "markdown",
   "metadata": {},
   "source": [
    "# (4) Lasso Regression Fitting"
   ]
  },
  {
   "cell_type": "code",
   "execution_count": 20,
   "metadata": {},
   "outputs": [
    {
     "name": "stdout",
     "output_type": "stream",
     "text": [
      "Mean Absolute Error: 0.8000364812231824\n",
      "Mean Squared Error: 0.9928636378342882\n",
      "Root Mean Squared Error: 0.9964254301423103\n"
     ]
    }
   ],
   "source": [
    "X_train, X_test, y_train, y_test = train_test_split(winedata, winequality, test_size=0.2, random_state = 5)\n",
    "scaler = StandardScaler()\n",
    "scaler.fit(X_train)\n",
    "# Apply transform to both the training set and the test set.\n",
    "X_train = scaler.transform(X_train)\n",
    "X_test = scaler.transform(X_test)\n",
    "LR = Lasso(alpha = 0.0001)\n",
    "LR.fit(X_train,y_train)\n",
    "predicted_y = LR.predict(X_test)\n",
    "\n",
    "print('Mean Absolute Error:', metrics.mean_absolute_error(y_test, pred_y))  \n",
    "print('Mean Squared Error:', metrics.mean_squared_error(y_test, pred_y))  \n",
    "print('Root Mean Squared Error:', np.sqrt(metrics.mean_squared_error(y_test, pred_y)))"
   ]
  },
  {
   "cell_type": "code",
   "execution_count": 21,
   "metadata": {},
   "outputs": [
    {
     "name": "stdout",
     "output_type": "stream",
     "text": [
      "Test_score: 0.34\n",
      "Train_score: 0.29\n"
     ]
    }
   ],
   "source": [
    "test_score = LR.score(X_test, y_test)\n",
    "train_score = LR.score(X_train, y_train)\n",
    "print('Test_score: {:.2f}'.format(test_score))\n",
    "\n",
    "print('Train_score: {:.2f}'.format(train_score))"
   ]
  },
  {
   "cell_type": "code",
   "execution_count": 22,
   "metadata": {},
   "outputs": [
    {
     "data": {
      "text/html": [
       "<div>\n",
       "<style scoped>\n",
       "    .dataframe tbody tr th:only-of-type {\n",
       "        vertical-align: middle;\n",
       "    }\n",
       "\n",
       "    .dataframe tbody tr th {\n",
       "        vertical-align: top;\n",
       "    }\n",
       "\n",
       "    .dataframe thead th {\n",
       "        text-align: right;\n",
       "    }\n",
       "</style>\n",
       "<table border=\"1\" class=\"dataframe\">\n",
       "  <thead>\n",
       "    <tr style=\"text-align: right;\">\n",
       "      <th></th>\n",
       "      <th>coefficient</th>\n",
       "    </tr>\n",
       "  </thead>\n",
       "  <tbody>\n",
       "    <tr>\n",
       "      <th>type</th>\n",
       "      <td>0.168361</td>\n",
       "    </tr>\n",
       "    <tr>\n",
       "      <th>fixed acidity</th>\n",
       "      <td>0.089796</td>\n",
       "    </tr>\n",
       "    <tr>\n",
       "      <th>volatile acidity</th>\n",
       "      <td>-0.264264</td>\n",
       "    </tr>\n",
       "    <tr>\n",
       "      <th>citric acid</th>\n",
       "      <td>-0.011206</td>\n",
       "    </tr>\n",
       "    <tr>\n",
       "      <th>residual sugar</th>\n",
       "      <td>0.287983</td>\n",
       "    </tr>\n",
       "    <tr>\n",
       "      <th>chlorides</th>\n",
       "      <td>-0.027722</td>\n",
       "    </tr>\n",
       "    <tr>\n",
       "      <th>free sulfur dioxide</th>\n",
       "      <td>0.071191</td>\n",
       "    </tr>\n",
       "    <tr>\n",
       "      <th>total sulfur dioxide</th>\n",
       "      <td>-0.059131</td>\n",
       "    </tr>\n",
       "    <tr>\n",
       "      <th>density</th>\n",
       "      <td>-0.281073</td>\n",
       "    </tr>\n",
       "    <tr>\n",
       "      <th>pH</th>\n",
       "      <td>0.079926</td>\n",
       "    </tr>\n",
       "    <tr>\n",
       "      <th>sulphates</th>\n",
       "      <td>0.107592</td>\n",
       "    </tr>\n",
       "    <tr>\n",
       "      <th>alcohol</th>\n",
       "      <td>0.272671</td>\n",
       "    </tr>\n",
       "  </tbody>\n",
       "</table>\n",
       "</div>"
      ],
      "text/plain": [
       "                      coefficient\n",
       "type                     0.168361\n",
       "fixed acidity            0.089796\n",
       "volatile acidity        -0.264264\n",
       "citric acid             -0.011206\n",
       "residual sugar           0.287983\n",
       "chlorides               -0.027722\n",
       "free sulfur dioxide      0.071191\n",
       "total sulfur dioxide    -0.059131\n",
       "density                 -0.281073\n",
       "pH                       0.079926\n",
       "sulphates                0.107592\n",
       "alcohol                  0.272671"
      ]
     },
     "execution_count": 22,
     "metadata": {},
     "output_type": "execute_result"
    }
   ],
   "source": [
    "coeff = LR.coef_\n",
    "coeff = np.reshape(coeff, [12,1])\n",
    "coeff = pd.DataFrame( data = coeff, index = ['type','fixed acidity', 'volatile acidity', 'citric acid', 'residual sugar',\n",
    "       'chlorides', 'free sulfur dioxide', 'total sulfur dioxide', 'density',\n",
    "       'pH', 'sulphates', 'alcohol'], columns = ['coefficient'] )\n",
    "coeff"
   ]
  },
  {
   "cell_type": "code",
   "execution_count": 23,
   "metadata": {},
   "outputs": [
    {
     "name": "stdout",
     "output_type": "stream",
     "text": [
      "(1293, 2)\n",
      "    y_test  predicted_y\n",
      "0      6.0     6.271987\n",
      "1      5.0     5.933933\n",
      "2      6.0     5.437109\n",
      "3      4.0     5.383408\n",
      "4      7.0     6.407959\n",
      "5      6.0     5.110375\n",
      "6      6.0     5.277709\n",
      "7      7.0     6.092118\n",
      "8      5.0     5.832901\n",
      "9      7.0     5.278542\n",
      "10     5.0     6.043993\n",
      "11     6.0     5.214680\n",
      "12     4.0     5.250292\n",
      "13     7.0     6.267225\n",
      "14     5.0     5.624007\n",
      "15     5.0     5.476394\n",
      "16     6.0     5.673419\n",
      "17     6.0     6.066388\n",
      "18     5.0     6.448018\n",
      "19     6.0     5.677642\n"
     ]
    }
   ],
   "source": [
    "ydata = np.append( (y_test), (pred_y), axis = 1)\n",
    "print(ydata.shape)\n",
    "df = pd.DataFrame(ydata,columns = ['y_test', 'predicted_y'])\n",
    "print (df.head(20))\n",
    "x = np.linspace(0,1293,num = 1293,endpoint=True)"
   ]
  },
  {
   "cell_type": "code",
   "execution_count": 24,
   "metadata": {},
   "outputs": [
    {
     "data": {
      "text/plain": [
       "Text(0, 0.5, 'Predictions')"
      ]
     },
     "execution_count": 24,
     "metadata": {},
     "output_type": "execute_result"
    },
    {
     "data": {
      "image/png": "[encoded data removed]",
      "text/plain": [
       "<Figure size 432x288 with 1 Axes>"
      ]
     },
     "metadata": {
      "needs_background": "light"
     },
     "output_type": "display_data"
    }
   ],
   "source": [
    "plt.scatter(y_test, pred_y, linewidth = 0.0001)\n",
    "plt.xlabel(\"True Values\")\n",
    "plt.ylabel(\"Predictions\")"
   ]
  },
  {
   "cell_type": "markdown",
   "metadata": {},
   "source": [
    "# cross validate for Lasso Regression"
   ]
  },
  {
   "cell_type": "code",
   "execution_count": 25,
   "metadata": {},
   "outputs": [
    {
     "name": "stderr",
     "output_type": "stream",
     "text": [
      "/Applications/anaconda3/lib/python3.7/site-packages/sklearn/utils/deprecation.py:125: FutureWarning: You are accessing a training score ('train_score'), which will not be available by default any more in 0.21. If you need training scores, please set return_train_score=True\n",
      "  warnings.warn(*warn_args, **warn_kwargs)\n"
     ]
    },
    {
     "data": {
      "text/plain": [
       "{'fit_time': array([0.00608611, 0.00386214, 0.00265598]),\n",
       " 'score_time': array([0.00044584, 0.00042605, 0.00054193]),\n",
       " 'test_score': array([0.19999848, 0.29672229, 0.03303653]),\n",
       " 'train_score': array([0.32952454, 0.27776389, 0.28570141])}"
      ]
     },
     "execution_count": 25,
     "metadata": {},
     "output_type": "execute_result"
    }
   ],
   "source": [
    "cv_results = cross_validate(LR, winedata, winequality, cv=3)\n",
    "cv_results"
   ]
  },
  {
   "cell_type": "markdown",
   "metadata": {},
   "source": [
    "# (5)Visilization of regression model"
   ]
  },
  {
   "cell_type": "code",
   "execution_count": 65,
   "metadata": {},
   "outputs": [
    {
     "name": "stdout",
     "output_type": "stream",
     "text": [
      "(1, 12)\n"
     ]
    },
    {
     "data": {
      "image/png": "[encoded data removed]",
      "text/plain": [
       "<Figure size 432x288 with 1 Axes>"
      ]
     },
     "metadata": {
      "needs_background": "light"
     },
     "output_type": "display_data"
    },
    {
     "data": {
      "text/html": [
       "<div>\n",
       "<style scoped>\n",
       "    .dataframe tbody tr th:only-of-type {\n",
       "        vertical-align: middle;\n",
       "    }\n",
       "\n",
       "    .dataframe tbody tr th {\n",
       "        vertical-align: top;\n",
       "    }\n",
       "\n",
       "    .dataframe thead th {\n",
       "        text-align: right;\n",
       "    }\n",
       "</style>\n",
       "<table border=\"1\" class=\"dataframe\">\n",
       "  <thead>\n",
       "    <tr style=\"text-align: right;\">\n",
       "      <th></th>\n",
       "      <th>coefficient</th>\n",
       "    </tr>\n",
       "  </thead>\n",
       "  <tbody>\n",
       "    <tr>\n",
       "      <th>type</th>\n",
       "      <td>0</td>\n",
       "    </tr>\n",
       "    <tr>\n",
       "      <th>fixed acidity</th>\n",
       "      <td>1</td>\n",
       "    </tr>\n",
       "    <tr>\n",
       "      <th>volatile acidity</th>\n",
       "      <td>2</td>\n",
       "    </tr>\n",
       "    <tr>\n",
       "      <th>citric acid</th>\n",
       "      <td>3</td>\n",
       "    </tr>\n",
       "    <tr>\n",
       "      <th>residual sugar</th>\n",
       "      <td>4</td>\n",
       "    </tr>\n",
       "    <tr>\n",
       "      <th>chlorides</th>\n",
       "      <td>5</td>\n",
       "    </tr>\n",
       "    <tr>\n",
       "      <th>free sulfur dioxide</th>\n",
       "      <td>6</td>\n",
       "    </tr>\n",
       "    <tr>\n",
       "      <th>total sulfur dioxide</th>\n",
       "      <td>7</td>\n",
       "    </tr>\n",
       "    <tr>\n",
       "      <th>density</th>\n",
       "      <td>8</td>\n",
       "    </tr>\n",
       "    <tr>\n",
       "      <th>pH</th>\n",
       "      <td>9</td>\n",
       "    </tr>\n",
       "    <tr>\n",
       "      <th>sulphates</th>\n",
       "      <td>10</td>\n",
       "    </tr>\n",
       "    <tr>\n",
       "      <th>alcohol</th>\n",
       "      <td>11</td>\n",
       "    </tr>\n",
       "  </tbody>\n",
       "</table>\n",
       "</div>"
      ],
      "text/plain": [
       "                      coefficient\n",
       "type                            0\n",
       "fixed acidity                   1\n",
       "volatile acidity                2\n",
       "citric acid                     3\n",
       "residual sugar                  4\n",
       "chlorides                       5\n",
       "free sulfur dioxide             6\n",
       "total sulfur dioxide            7\n",
       "density                         8\n",
       "pH                              9\n",
       "sulphates                      10\n",
       "alcohol                        11"
      ]
     },
     "execution_count": 65,
     "metadata": {},
     "output_type": "execute_result"
    }
   ],
   "source": [
    "index = ['type','fixed acidity', 'volatile acidity', 'citric acid', 'residual sugar',\n",
    "       'chlorides', 'free sulfur dioxide', 'total sulfur dioxide', 'density',\n",
    "       'pH', 'sulphates', 'alcohol']\n",
    "index_df = pd.DataFrame([0,1,2,3,4,5,6,7,8,9,10,11], index, columns = ['coefficient'])\n",
    "\n",
    "x_index = np. reshape(np.linspace(0,11, num = 12), [1,12])\n",
    "\n",
    "print(x_index.shape)\n",
    "\n",
    "plt.plot(x_index, RR.coef_,linestyle='none',marker='*',markersize=10,color='red', zorder=7) # zorder for ordering the markers\n",
    "plt.plot(x_index, np.reshape((LR.coef_),[1,12]),linestyle='none',marker='d',markersize=6,color='blue') # alpha here is for transparency\n",
    "plt.plot(x_index, reg.coef_,linestyle='none',marker='o',markersize=7,color='green')\n",
    "plt.xlabel('Coefficient Index',fontsize=16)\n",
    "plt.ylabel('Coefficient Magnitude',fontsize=16)\n",
    "#plt.legend(fontsize=13,loc=5)\n",
    "plt.text(0.05, 0.2,' Ridge, $\\u03B1$ = 100',\n",
    "         color='red',\n",
    "     horizontalalignment='left',\n",
    "     verticalalignment='bottom',\n",
    "     transform = ax.transAxes)\n",
    "plt.text(0.05, 0.4,' Linear Regression',\n",
    "          color='green',\n",
    "     horizontalalignment='left',\n",
    "     verticalalignment='bottom',\n",
    "     transform = ax.transAxes)\n",
    "plt.text(0.05, 0.3,' Lasso, $\\u03B1$ = 0.0001',\n",
    "          color='blue',\n",
    "     horizontalalignment='left',\n",
    "     verticalalignment='bottom',\n",
    "     transform = ax.transAxes)\n",
    "plt.show()\n",
    "\n",
    "index_df"
   ]
  },
  {
   "cell_type": "code",
   "execution_count": 105,
   "metadata": {},
   "outputs": [
    {
     "data": {
      "text/html": [
       "<div>\n",
       "<style scoped>\n",
       "    .dataframe tbody tr th:only-of-type {\n",
       "        vertical-align: middle;\n",
       "    }\n",
       "\n",
       "    .dataframe tbody tr th {\n",
       "        vertical-align: top;\n",
       "    }\n",
       "\n",
       "    .dataframe thead th {\n",
       "        text-align: right;\n",
       "    }\n",
       "</style>\n",
       "<table border=\"1\" class=\"dataframe\">\n",
       "  <thead>\n",
       "    <tr style=\"text-align: right;\">\n",
       "      <th></th>\n",
       "      <th>Ridge</th>\n",
       "      <th>Lasso $α$ =100</th>\n",
       "      <th>Linear $α$ = 0.0001</th>\n",
       "    </tr>\n",
       "  </thead>\n",
       "  <tbody>\n",
       "    <tr>\n",
       "      <th>0</th>\n",
       "      <td>0.124857</td>\n",
       "      <td>0.169745</td>\n",
       "      <td>0.152474</td>\n",
       "    </tr>\n",
       "    <tr>\n",
       "      <th>1</th>\n",
       "      <td>0.053168</td>\n",
       "      <td>0.091592</td>\n",
       "      <td>0.110208</td>\n",
       "    </tr>\n",
       "    <tr>\n",
       "      <th>2</th>\n",
       "      <td>-0.254557</td>\n",
       "      <td>-0.264411</td>\n",
       "      <td>-0.254844</td>\n",
       "    </tr>\n",
       "    <tr>\n",
       "      <th>3</th>\n",
       "      <td>-0.008094</td>\n",
       "      <td>-0.011393</td>\n",
       "      <td>-0.012826</td>\n",
       "    </tr>\n",
       "    <tr>\n",
       "      <th>4</th>\n",
       "      <td>0.218434</td>\n",
       "      <td>0.290819</td>\n",
       "      <td>0.276331</td>\n",
       "    </tr>\n",
       "    <tr>\n",
       "      <th>5</th>\n",
       "      <td>-0.032502</td>\n",
       "      <td>-0.027709</td>\n",
       "      <td>-0.024269</td>\n",
       "    </tr>\n",
       "    <tr>\n",
       "      <th>6</th>\n",
       "      <td>0.074121</td>\n",
       "      <td>0.071332</td>\n",
       "      <td>0.085453</td>\n",
       "    </tr>\n",
       "    <tr>\n",
       "      <th>7</th>\n",
       "      <td>-0.067965</td>\n",
       "      <td>-0.059151</td>\n",
       "      <td>-0.073995</td>\n",
       "    </tr>\n",
       "    <tr>\n",
       "      <th>8</th>\n",
       "      <td>-0.184050</td>\n",
       "      <td>-0.285260</td>\n",
       "      <td>-0.297435</td>\n",
       "    </tr>\n",
       "    <tr>\n",
       "      <th>9</th>\n",
       "      <td>0.058800</td>\n",
       "      <td>0.080946</td>\n",
       "      <td>0.079284</td>\n",
       "    </tr>\n",
       "    <tr>\n",
       "      <th>10</th>\n",
       "      <td>0.101814</td>\n",
       "      <td>0.107942</td>\n",
       "      <td>0.098789</td>\n",
       "    </tr>\n",
       "    <tr>\n",
       "      <th>11</th>\n",
       "      <td>0.303374</td>\n",
       "      <td>0.271027</td>\n",
       "      <td>0.267576</td>\n",
       "    </tr>\n",
       "  </tbody>\n",
       "</table>\n",
       "</div>"
      ],
      "text/plain": [
       "       Ridge  Lasso $α$ =100  Linear $α$ = 0.0001\n",
       "0   0.124857        0.169745             0.152474\n",
       "1   0.053168        0.091592             0.110208\n",
       "2  -0.254557       -0.264411            -0.254844\n",
       "3  -0.008094       -0.011393            -0.012826\n",
       "4   0.218434        0.290819             0.276331\n",
       "5  -0.032502       -0.027709            -0.024269\n",
       "6   0.074121        0.071332             0.085453\n",
       "7  -0.067965       -0.059151            -0.073995\n",
       "8  -0.184050       -0.285260            -0.297435\n",
       "9   0.058800        0.080946             0.079284\n",
       "10  0.101814        0.107942             0.098789\n",
       "11  0.303374        0.271027             0.267576"
      ]
     },
     "execution_count": 105,
     "metadata": {},
     "output_type": "execute_result"
    }
   ],
   "source": [
    "index_df = ['type','fixed acidity', 'volatile acidity', 'citric acid', 'residual sugar',\n",
    "       'chlorides', 'free sulfur dioxide', 'total sulfur dioxide', 'density',\n",
    "       'pH', 'sulphates', 'alcohol']\n",
    "#index_df = pd.DataFrame([0,1,2,3,4,5,6,7,8,9,10,11], index, columns = ['coefficient'])\n",
    "\n",
    "#rrcoef_df = pd.DataFrame(np.reshape((RR.coef_),[12,1]), index = index_df, columns = ['Ridge'])\n",
    "rrcoef_df = pd.DataFrame(np.reshape((RR.coef_),[12,1]),  columns = ['Ridge'])\n",
    "\n",
    "\n",
    "#lrcoef_df = pd.DataFrame(np.reshape((LR.coef_),[12,1]), index = index_df, columns = ['Lasso'])\n",
    "\n",
    "#linearcoef_df =pd.DataFrame(np.reshape((reg.coef_),[12,1]), index = index_df, columns = ['Linear'])\n",
    "\n",
    "coeff_df = rrcoef_df \n",
    "coeff_df['Lasso $\\u03B1$ =100'] = np.reshape((LR.coef_),[12,1])\n",
    "coeff_df['Linear $\\u03B1$ = 0.0001'] = np.reshape((reg.coef_),[12,1])\n",
    "coeff_df\n",
    "#df = sns.load_dataset(\"df\")\n",
    "#sns.scatterplot(x = , y = coeff_df.values[:,0], data=df)\n",
    "#sns.scatterplot(coeff_df, x=\"index\", y=\"Ridge\")\n"
   ]
  },
  {
   "cell_type": "markdown",
   "metadata": {},
   "source": [
    "# Compare different alpha for Ridge model "
   ]
  },
  {
   "cell_type": "code",
   "execution_count": 147,
   "metadata": {},
   "outputs": [
    {
     "name": "stdout",
     "output_type": "stream",
     "text": [
      "1 [[ 0.1690339   0.09091386 -0.26432518 -0.01136584  0.28959646 -0.02777887\n",
      "   0.07139979 -0.0593053  -0.28346927  0.08055283  0.10783664  0.27167914]]\n",
      "0 [[ 0.16974459  0.09159171 -0.26441108 -0.0113928   0.29081936 -0.02770928\n",
      "   0.07133167 -0.05915068 -0.28526001  0.08094627  0.10794231  0.27102691]]\n",
      "50 [[ 0.14240418  0.06699935 -0.25965982 -0.0098342   0.24544159 -0.03051167\n",
      "   0.07347354 -0.06481848 -0.22035818  0.06672755  0.10407673  0.29320193]]\n",
      "80 [[ 0.13112289  0.05790544 -0.2566065  -0.00879718  0.22786765 -0.03176877\n",
      "   0.07397488 -0.06690483 -0.19645323  0.06150799  0.1026044   0.300184  ]]\n",
      "100 [[ 0.12485733  0.05316771 -0.25455662 -0.00809397  0.21843379 -0.03250181\n",
      "   0.07412083 -0.06796505 -0.18405042  0.05879986  0.10181425  0.30337358]]\n",
      "1000 [[ 0.04132023  0.0113542  -0.18888545  0.01327904  0.10676491 -0.04555789\n",
      "   0.0584436  -0.06447181 -0.08636006  0.03432928  0.08687952  0.2759438 ]]\n"
     ]
    }
   ],
   "source": [
    "X_train, X_test, y_train, y_test = train_test_split(winedata, winequality, test_size=0.2, random_state = 5)\n",
    "scaler = StandardScaler()\n",
    "scaler.fit(X_train)\n",
    "# Apply transform to both the training set and the test set.\n",
    "X_train = scaler.transform(X_train)\n",
    "X_test = scaler.transform(X_test)\n",
    "RR = Ridge(alpha = 1)\n",
    "RR.fit(X_train,y_train)\n",
    "predicted_y = RR.predict(X_test)\n",
    "coeff1 = RR.coef_\n",
    "print (\"1\", coeff1)\n",
    "\n",
    "RR = Ridge(alpha = 0)\n",
    "RR.fit(X_train,y_train)\n",
    "predicted_y = RR.predict(X_test)\n",
    "coeff0 = RR.coef_\n",
    "print ('0',coeff0)\n",
    "\n",
    "RR = Ridge(alpha = 50)\n",
    "RR.fit(X_train,y_train)\n",
    "predicted_y = RR.predict(X_test)\n",
    "coeff50 = RR.coef_\n",
    "print ('50',coeff50)\n",
    "\n",
    "RR = Ridge(alpha = 80)\n",
    "RR.fit(X_train,y_train)\n",
    "predicted_y = RR.predict(X_test)\n",
    "coeff80 = RR.coef_\n",
    "print ('80', coeff80)\n",
    "\n",
    "RR = Ridge(alpha = 100)\n",
    "RR.fit(X_train,y_train)\n",
    "predicted_y = RR.predict(X_test)\n",
    "coeff100 = RR.coef_\n",
    "print ('100', coeff100)\n",
    "\n",
    "RR = Ridge(alpha = 1000)\n",
    "RR.fit(X_train,y_train)\n",
    "predicted_y = RR.predict(X_test)\n",
    "coeff1000 = RR.coef_\n",
    "print ('1000', coeff1000)"
   ]
  },
  {
   "cell_type": "code",
   "execution_count": 148,
   "metadata": {},
   "outputs": [
    {
     "data": {
      "text/html": [
       "<div>\n",
       "<style scoped>\n",
       "    .dataframe tbody tr th:only-of-type {\n",
       "        vertical-align: middle;\n",
       "    }\n",
       "\n",
       "    .dataframe tbody tr th {\n",
       "        vertical-align: top;\n",
       "    }\n",
       "\n",
       "    .dataframe thead th {\n",
       "        text-align: right;\n",
       "    }\n",
       "</style>\n",
       "<table border=\"1\" class=\"dataframe\">\n",
       "  <thead>\n",
       "    <tr style=\"text-align: right;\">\n",
       "      <th></th>\n",
       "      <th>$α$ =1</th>\n",
       "      <th>$α$ =50</th>\n",
       "      <th>$α$ = 100</th>\n",
       "      <th>$α$ = 1000</th>\n",
       "      <th>$α$ = 0</th>\n",
       "      <th>LinearRegression</th>\n",
       "    </tr>\n",
       "  </thead>\n",
       "  <tbody>\n",
       "    <tr>\n",
       "      <th>0</th>\n",
       "      <td>0.169034</td>\n",
       "      <td>0.142404</td>\n",
       "      <td>0.124857</td>\n",
       "      <td>0.041320</td>\n",
       "      <td>0.169745</td>\n",
       "      <td>0.152474</td>\n",
       "    </tr>\n",
       "    <tr>\n",
       "      <th>1</th>\n",
       "      <td>0.090914</td>\n",
       "      <td>0.066999</td>\n",
       "      <td>0.053168</td>\n",
       "      <td>0.011354</td>\n",
       "      <td>0.091592</td>\n",
       "      <td>0.110208</td>\n",
       "    </tr>\n",
       "    <tr>\n",
       "      <th>2</th>\n",
       "      <td>-0.264325</td>\n",
       "      <td>-0.259660</td>\n",
       "      <td>-0.254557</td>\n",
       "      <td>-0.188885</td>\n",
       "      <td>-0.264411</td>\n",
       "      <td>-0.254844</td>\n",
       "    </tr>\n",
       "    <tr>\n",
       "      <th>3</th>\n",
       "      <td>-0.011366</td>\n",
       "      <td>-0.009834</td>\n",
       "      <td>-0.008094</td>\n",
       "      <td>0.013279</td>\n",
       "      <td>-0.011393</td>\n",
       "      <td>-0.012826</td>\n",
       "    </tr>\n",
       "    <tr>\n",
       "      <th>4</th>\n",
       "      <td>0.289596</td>\n",
       "      <td>0.245442</td>\n",
       "      <td>0.218434</td>\n",
       "      <td>0.106765</td>\n",
       "      <td>0.290819</td>\n",
       "      <td>0.276331</td>\n",
       "    </tr>\n",
       "    <tr>\n",
       "      <th>5</th>\n",
       "      <td>-0.027779</td>\n",
       "      <td>-0.030512</td>\n",
       "      <td>-0.032502</td>\n",
       "      <td>-0.045558</td>\n",
       "      <td>-0.027709</td>\n",
       "      <td>-0.024269</td>\n",
       "    </tr>\n",
       "    <tr>\n",
       "      <th>6</th>\n",
       "      <td>0.071400</td>\n",
       "      <td>0.073474</td>\n",
       "      <td>0.074121</td>\n",
       "      <td>0.058444</td>\n",
       "      <td>0.071332</td>\n",
       "      <td>0.085453</td>\n",
       "    </tr>\n",
       "    <tr>\n",
       "      <th>7</th>\n",
       "      <td>-0.059305</td>\n",
       "      <td>-0.064818</td>\n",
       "      <td>-0.067965</td>\n",
       "      <td>-0.064472</td>\n",
       "      <td>-0.059151</td>\n",
       "      <td>-0.073995</td>\n",
       "    </tr>\n",
       "    <tr>\n",
       "      <th>8</th>\n",
       "      <td>-0.283469</td>\n",
       "      <td>-0.220358</td>\n",
       "      <td>-0.184050</td>\n",
       "      <td>-0.086360</td>\n",
       "      <td>-0.285260</td>\n",
       "      <td>-0.297435</td>\n",
       "    </tr>\n",
       "    <tr>\n",
       "      <th>9</th>\n",
       "      <td>0.080553</td>\n",
       "      <td>0.066728</td>\n",
       "      <td>0.058800</td>\n",
       "      <td>0.034329</td>\n",
       "      <td>0.080946</td>\n",
       "      <td>0.079284</td>\n",
       "    </tr>\n",
       "    <tr>\n",
       "      <th>10</th>\n",
       "      <td>0.107837</td>\n",
       "      <td>0.104077</td>\n",
       "      <td>0.101814</td>\n",
       "      <td>0.086880</td>\n",
       "      <td>0.107942</td>\n",
       "      <td>0.098789</td>\n",
       "    </tr>\n",
       "    <tr>\n",
       "      <th>11</th>\n",
       "      <td>0.271679</td>\n",
       "      <td>0.293202</td>\n",
       "      <td>0.303374</td>\n",
       "      <td>0.275944</td>\n",
       "      <td>0.271027</td>\n",
       "      <td>0.267576</td>\n",
       "    </tr>\n",
       "  </tbody>\n",
       "</table>\n",
       "</div>"
      ],
      "text/plain": [
       "      $α$ =1   $α$ =50  $α$ = 100  $α$ = 1000   $α$ = 0  LinearRegression\n",
       "0   0.169034  0.142404   0.124857    0.041320  0.169745          0.152474\n",
       "1   0.090914  0.066999   0.053168    0.011354  0.091592          0.110208\n",
       "2  -0.264325 -0.259660  -0.254557   -0.188885 -0.264411         -0.254844\n",
       "3  -0.011366 -0.009834  -0.008094    0.013279 -0.011393         -0.012826\n",
       "4   0.289596  0.245442   0.218434    0.106765  0.290819          0.276331\n",
       "5  -0.027779 -0.030512  -0.032502   -0.045558 -0.027709         -0.024269\n",
       "6   0.071400  0.073474   0.074121    0.058444  0.071332          0.085453\n",
       "7  -0.059305 -0.064818  -0.067965   -0.064472 -0.059151         -0.073995\n",
       "8  -0.283469 -0.220358  -0.184050   -0.086360 -0.285260         -0.297435\n",
       "9   0.080553  0.066728   0.058800    0.034329  0.080946          0.079284\n",
       "10  0.107837  0.104077   0.101814    0.086880  0.107942          0.098789\n",
       "11  0.271679  0.293202   0.303374    0.275944  0.271027          0.267576"
      ]
     },
     "execution_count": 148,
     "metadata": {},
     "output_type": "execute_result"
    }
   ],
   "source": [
    "rcoef_df = pd.DataFrame(np.reshape(coeff1,[12,1]),  columns = ['$\\u03B1$ =1'])\n",
    "\n",
    "\n",
    "#lrcoef_df = pd.DataFrame(np.reshape((LR.coef_),[12,1]), index = index_df, columns = ['Lasso'])\n",
    "\n",
    "#linearcoef_df =pd.DataFrame(np.reshape((reg.coef_),[12,1]), index = index_df, columns = ['Linear'])\n",
    "\n",
    "coeff_df = rcoef_df \n",
    "coeff_df['$\\u03B1$ =50'] = np.reshape(coeff50,[12,1])\n",
    "coeff_df['$\\u03B1$ = 100'] = np.reshape(coeff100,[12,1])\n",
    "coeff_df['$\\u03B1$ = 1000'] = np.reshape(coeff1000,[12,1])\n",
    "coeff_df['$\\u03B1$ = 0'] = np.reshape(coeff0,[12,1])\n",
    "coeff_df['LinearRegression'] = np.reshape(reg.coef_,[12,1])\n",
    "coeff_df\n",
    "#df = sns.load_dataset(\"df\")\n",
    "#sns.scatterplot(x = , y = coeff_df.values[:,0], data=df)\n",
    "#sns.scatterplot(coeff_df, x=\"index\", y=\"Ridge\")\n",
    "\n"
   ]
  },
  {
   "cell_type": "code",
   "execution_count": 120,
   "metadata": {},
   "outputs": [
    {
     "data": {
      "image/png": "[encoded data removed]",
      "text/plain": [
       "<Figure size 432x288 with 1 Axes>"
      ]
     },
     "metadata": {
      "needs_background": "light"
     },
     "output_type": "display_data"
    }
   ],
   "source": [
    "plt.plot(x_index, np.reshape(coeff1, [1,12]),linestyle='none',marker='*',markersize=5,color='red', zorder=7)\n",
    "\n",
    "plt.plot(x_index, coeff50,linestyle='none',marker='.',markersize=5,color='blue', zorder=7)\n",
    "\n",
    "plt.plot(x_index, coeff100,linestyle='none',marker='8',markersize=5,color='black', zorder=7)\n",
    "plt.plot(x_index, coeff1000,linestyle='none',marker='s',markersize=5,color='brown', zorder=7)\n",
    "\n",
    "plt.text(0.001, 0.001, '$\\u03B1$ = 1',\n",
    "         color='red',\n",
    "     horizontalalignment='left',\n",
    "     verticalalignment='bottom',\n",
    "     transform = ax.transAxes)\n",
    "\n",
    "plt.text(0.005, 0.05,'$\\u03B1$ = 50',\n",
    "          color='blue',\n",
    "     horizontalalignment='left',\n",
    "     verticalalignment='bottom',\n",
    "     transform = ax.transAxes)\n",
    "\n",
    "plt.text(0.005, 0.1,'$\\u03B1$ = 100',\n",
    "          color='black',\n",
    "     horizontalalignment='left',\n",
    "     verticalalignment='bottom',\n",
    "     transform = ax.transAxes)\n",
    "plt.text(0.005, 0.15,'$\\u03B1$ = 1000',\n",
    "          color='brown',\n",
    "     horizontalalignment='left',\n",
    "     verticalalignment='bottom',\n",
    "     transform = ax.transAxes)\n",
    "plt.text(0.005, 0.3,'Ridge regression',\n",
    "          color='black',\n",
    "     horizontalalignment='left',\n",
    "     verticalalignment='bottom',\n",
    "     transform = ax.transAxes)\n",
    "plt.show()"
   ]
  },
  {
   "cell_type": "markdown",
   "metadata": {},
   "source": [
    "# Compare different alpha for Lasso model "
   ]
  },
  {
   "cell_type": "code",
   "execution_count": 30,
   "metadata": {},
   "outputs": [
    {
     "name": "stdout",
     "output_type": "stream",
     "text": [
      "1 [ 0.16836144  0.08979627 -0.26426351 -0.01120571  0.28798316 -0.02772207\n",
      "  0.07119149 -0.05913121 -0.28107332  0.07992592  0.10759153  0.27267078]\n",
      "2 [ 0.15593776  0.07367101 -0.26293148 -0.00952121  0.26251131 -0.02783343\n",
      "  0.06992601 -0.05894932 -0.24347544  0.07076178  0.10443863  0.28743243]\n",
      "3 [-0.         -0.         -0.12675538  0.          0.         -0.\n",
      "  0.         -0.         -0.          0.          0.          0.27209171]\n",
      "4 [-0. -0. -0.  0. -0. -0.  0. -0. -0.  0.  0.  0.]\n",
      "0 [ 0.16974459  0.09159171 -0.26441108 -0.0113928   0.29081936 -0.02770928\n",
      "  0.07133167 -0.05915068 -0.28526001  0.08094627  0.10794231  0.27102691]\n"
     ]
    },
    {
     "name": "stderr",
     "output_type": "stream",
     "text": [
      "/Applications/anaconda3/lib/python3.7/site-packages/ipykernel_launcher.py:59: UserWarning: With alpha=0, this algorithm does not converge well. You are advised to use the LinearRegression estimator\n",
      "/Applications/anaconda3/lib/python3.7/site-packages/sklearn/linear_model/coordinate_descent.py:478: UserWarning: Coordinate descent with no regularization may lead to unexpected results and is discouraged.\n",
      "  positive)\n",
      "/Applications/anaconda3/lib/python3.7/site-packages/sklearn/linear_model/coordinate_descent.py:492: ConvergenceWarning: Objective did not converge. You might want to increase the number of iterations. Fitting data with very small alpha may cause precision problems.\n",
      "  ConvergenceWarning)\n"
     ]
    }
   ],
   "source": [
    "X_train, X_test, y_train, y_test = train_test_split(winedata, winequality, test_size=0.2, random_state = 5)\n",
    "scaler = StandardScaler()\n",
    "scaler.fit(X_train)\n",
    "# Apply transform to both the training set and the test set.\n",
    "X_train = scaler.transform(X_train)\n",
    "X_test = scaler.transform(X_test)\n",
    "LR = Lasso(alpha = 0.0001)\n",
    "LR.fit(X_train,y_train)\n",
    "predicted_y = LR.predict(X_test)\n",
    "coeff1 = LR.coef_\n",
    "print (\"1\", coeff1)\n",
    "\n",
    "\n",
    "X_train, X_test, y_train, y_test = train_test_split(winedata, winequality, test_size=0.2, random_state = 5)\n",
    "scaler = StandardScaler()\n",
    "scaler.fit(X_train)\n",
    "# Apply transform to both the training set and the test set.\n",
    "X_train = scaler.transform(X_train)\n",
    "X_test = scaler.transform(X_test)\n",
    "LR = Lasso(alpha = 0.001)\n",
    "LR.fit(X_train,y_train)\n",
    "predicted_y = LR.predict(X_test)\n",
    "coeff2 = LR.coef_\n",
    "print (\"2\", coeff2)\n",
    "\n",
    "\n",
    "X_train, X_test, y_train, y_test = train_test_split(winedata, winequality, test_size=0.2, random_state = 5)\n",
    "scaler = StandardScaler()\n",
    "scaler.fit(X_train)\n",
    "# Apply transform to both the training set and the test set.\n",
    "X_train = scaler.transform(X_train)\n",
    "X_test = scaler.transform(X_test)\n",
    "LR = Lasso(alpha = 0.1)\n",
    "LR.fit(X_train,y_train)\n",
    "predicted_y = LR.predict(X_test)\n",
    "coeff3 = LR.coef_\n",
    "print (\"3\", coeff3)\n",
    "\n",
    "X_train, X_test, y_train, y_test = train_test_split(winedata, winequality, test_size=0.2, random_state = 5)\n",
    "scaler = StandardScaler()\n",
    "scaler.fit(X_train)\n",
    "# Apply transform to both the training set and the test set.\n",
    "X_train = scaler.transform(X_train)\n",
    "X_test = scaler.transform(X_test)\n",
    "LR = Lasso(alpha = 1)\n",
    "LR.fit(X_train,y_train)\n",
    "predicted_y = LR.predict(X_test)\n",
    "coeff4 = LR.coef_\n",
    "print (\"4\", coeff4)\n",
    "\n",
    "\n",
    "X_train, X_test, y_train, y_test = train_test_split(winedata, winequality, test_size=0.2, random_state = 5)\n",
    "scaler = StandardScaler()\n",
    "scaler.fit(X_train)\n",
    "# Apply transform to both the training set and the test set.\n",
    "X_train = scaler.transform(X_train)\n",
    "X_test = scaler.transform(X_test)\n",
    "LR = Lasso(alpha = 0)\n",
    "LR.fit(X_train,y_train)\n",
    "predicted_y = LR.predict(X_test)\n",
    "coeff0 = LR.coef_\n",
    "print (\"0\", coeff0)\n",
    "\n"
   ]
  },
  {
   "cell_type": "code",
   "execution_count": 146,
   "metadata": {},
   "outputs": [
    {
     "data": {
      "text/html": [
       "<div>\n",
       "<style scoped>\n",
       "    .dataframe tbody tr th:only-of-type {\n",
       "        vertical-align: middle;\n",
       "    }\n",
       "\n",
       "    .dataframe tbody tr th {\n",
       "        vertical-align: top;\n",
       "    }\n",
       "\n",
       "    .dataframe thead th {\n",
       "        text-align: right;\n",
       "    }\n",
       "</style>\n",
       "<table border=\"1\" class=\"dataframe\">\n",
       "  <thead>\n",
       "    <tr style=\"text-align: right;\">\n",
       "      <th></th>\n",
       "      <th>$α$ =0.001</th>\n",
       "      <th>$α$ = 0.01</th>\n",
       "      <th>$α$ = 0.1</th>\n",
       "      <th>$α$ = 1</th>\n",
       "      <th>$α$ = 0</th>\n",
       "      <th>LinearRegression</th>\n",
       "    </tr>\n",
       "  </thead>\n",
       "  <tbody>\n",
       "    <tr>\n",
       "      <th>0</th>\n",
       "      <td>0.169034</td>\n",
       "      <td>0.155938</td>\n",
       "      <td>-0.000000</td>\n",
       "      <td>-0.0</td>\n",
       "      <td>0.169745</td>\n",
       "      <td>0.152474</td>\n",
       "    </tr>\n",
       "    <tr>\n",
       "      <th>1</th>\n",
       "      <td>0.090914</td>\n",
       "      <td>0.073671</td>\n",
       "      <td>-0.000000</td>\n",
       "      <td>-0.0</td>\n",
       "      <td>0.091592</td>\n",
       "      <td>0.110208</td>\n",
       "    </tr>\n",
       "    <tr>\n",
       "      <th>2</th>\n",
       "      <td>-0.264325</td>\n",
       "      <td>-0.262931</td>\n",
       "      <td>-0.126755</td>\n",
       "      <td>-0.0</td>\n",
       "      <td>-0.264411</td>\n",
       "      <td>-0.254844</td>\n",
       "    </tr>\n",
       "    <tr>\n",
       "      <th>3</th>\n",
       "      <td>-0.011366</td>\n",
       "      <td>-0.009521</td>\n",
       "      <td>0.000000</td>\n",
       "      <td>0.0</td>\n",
       "      <td>-0.011393</td>\n",
       "      <td>-0.012826</td>\n",
       "    </tr>\n",
       "    <tr>\n",
       "      <th>4</th>\n",
       "      <td>0.289596</td>\n",
       "      <td>0.262511</td>\n",
       "      <td>0.000000</td>\n",
       "      <td>-0.0</td>\n",
       "      <td>0.290819</td>\n",
       "      <td>0.276331</td>\n",
       "    </tr>\n",
       "    <tr>\n",
       "      <th>5</th>\n",
       "      <td>-0.027779</td>\n",
       "      <td>-0.027833</td>\n",
       "      <td>-0.000000</td>\n",
       "      <td>-0.0</td>\n",
       "      <td>-0.027709</td>\n",
       "      <td>-0.024269</td>\n",
       "    </tr>\n",
       "    <tr>\n",
       "      <th>6</th>\n",
       "      <td>0.071400</td>\n",
       "      <td>0.069926</td>\n",
       "      <td>0.000000</td>\n",
       "      <td>0.0</td>\n",
       "      <td>0.071332</td>\n",
       "      <td>0.085453</td>\n",
       "    </tr>\n",
       "    <tr>\n",
       "      <th>7</th>\n",
       "      <td>-0.059305</td>\n",
       "      <td>-0.058949</td>\n",
       "      <td>-0.000000</td>\n",
       "      <td>-0.0</td>\n",
       "      <td>-0.059151</td>\n",
       "      <td>-0.073995</td>\n",
       "    </tr>\n",
       "    <tr>\n",
       "      <th>8</th>\n",
       "      <td>-0.283469</td>\n",
       "      <td>-0.243475</td>\n",
       "      <td>-0.000000</td>\n",
       "      <td>-0.0</td>\n",
       "      <td>-0.285260</td>\n",
       "      <td>-0.297435</td>\n",
       "    </tr>\n",
       "    <tr>\n",
       "      <th>9</th>\n",
       "      <td>0.080553</td>\n",
       "      <td>0.070762</td>\n",
       "      <td>0.000000</td>\n",
       "      <td>0.0</td>\n",
       "      <td>0.080946</td>\n",
       "      <td>0.079284</td>\n",
       "    </tr>\n",
       "    <tr>\n",
       "      <th>10</th>\n",
       "      <td>0.107837</td>\n",
       "      <td>0.104439</td>\n",
       "      <td>0.000000</td>\n",
       "      <td>0.0</td>\n",
       "      <td>0.107942</td>\n",
       "      <td>0.098789</td>\n",
       "    </tr>\n",
       "    <tr>\n",
       "      <th>11</th>\n",
       "      <td>0.271679</td>\n",
       "      <td>0.287432</td>\n",
       "      <td>0.272092</td>\n",
       "      <td>0.0</td>\n",
       "      <td>0.271027</td>\n",
       "      <td>0.267576</td>\n",
       "    </tr>\n",
       "  </tbody>\n",
       "</table>\n",
       "</div>"
      ],
      "text/plain": [
       "    $α$ =0.001  $α$ = 0.01  $α$ = 0.1  $α$ = 1   $α$ = 0  LinearRegression\n",
       "0     0.169034    0.155938  -0.000000     -0.0  0.169745          0.152474\n",
       "1     0.090914    0.073671  -0.000000     -0.0  0.091592          0.110208\n",
       "2    -0.264325   -0.262931  -0.126755     -0.0 -0.264411         -0.254844\n",
       "3    -0.011366   -0.009521   0.000000      0.0 -0.011393         -0.012826\n",
       "4     0.289596    0.262511   0.000000     -0.0  0.290819          0.276331\n",
       "5    -0.027779   -0.027833  -0.000000     -0.0 -0.027709         -0.024269\n",
       "6     0.071400    0.069926   0.000000      0.0  0.071332          0.085453\n",
       "7    -0.059305   -0.058949  -0.000000     -0.0 -0.059151         -0.073995\n",
       "8    -0.283469   -0.243475  -0.000000     -0.0 -0.285260         -0.297435\n",
       "9     0.080553    0.070762   0.000000      0.0  0.080946          0.079284\n",
       "10    0.107837    0.104439   0.000000      0.0  0.107942          0.098789\n",
       "11    0.271679    0.287432   0.272092      0.0  0.271027          0.267576"
      ]
     },
     "execution_count": 146,
     "metadata": {},
     "output_type": "execute_result"
    }
   ],
   "source": [
    "rcoef_df = pd.DataFrame(np.reshape(coeff1,[12,1]),  columns = ['$\\u03B1$ =0.001'])\n",
    "\n",
    "\n",
    "#lrcoef_df = pd.DataFrame(np.reshape((LR.coef_),[12,1]), index = index_df, columns = ['Lasso'])\n",
    "\n",
    "#linearcoef_df =pd.DataFrame(np.reshape((reg.coef_),[12,1]), index = index_df, columns = ['Linear'])\n",
    "\n",
    "coeff_df = rcoef_df \n",
    "coeff_df['$\\u03B1$ = 0.01'] = np.reshape(coeff2,[12,1])\n",
    "coeff_df['$\\u03B1$ = 0.1'] = np.reshape(coeff3,[12,1])\n",
    "coeff_df['$\\u03B1$ = 1'] = np.reshape(coeff4,[12,1])\n",
    "coeff_df['$\\u03B1$ = 0'] = np.reshape(coeff0,[12,1])\n",
    "coeff_df['LinearRegression'] = np.reshape(reg.coef_,[12,1])\n",
    "coeff_df\n",
    "#df = sns.load_dataset(\"df\")\n",
    "#sns.scatterplot(x = , y = coeff_df.values[:,0], data=df)\n",
    "#sns.scatterplot(coeff_df, x=\"index\", y=\"Ridge\")"
   ]
  },
  {
   "cell_type": "code",
   "execution_count": 139,
   "metadata": {},
   "outputs": [
    {
     "data": {
      "image/png": "[encoded data removed]",
      "text/plain": [
       "<Figure size 432x288 with 1 Axes>"
      ]
     },
     "metadata": {
      "needs_background": "light"
     },
     "output_type": "display_data"
    }
   ],
   "source": [
    "plt.plot(x_index, reg.coef_,linestyle='none',marker='o',markersize=7,color='green')\n",
    "plt.plot(x_index, np.reshape(coeff1,[1,12]),linestyle='none',marker='*',markersize=5,color='red', zorder=7)\n",
    "\n",
    "plt.plot(x_index, np.reshape(coeff2,[1,12]),linestyle='none',marker='.',markersize=5,color='blue', zorder=7)\n",
    "\n",
    "plt.plot(x_index, np.reshape(coeff3,[1,12]),linestyle='none',marker='8',markersize=5,color='black', zorder=7)\n",
    "plt.plot(x_index, np.reshape(coeff4,[1,12]),linestyle='none',marker='s',markersize=5,color='brown', zorder=7)\n",
    "\n",
    "plt.plot(x_index, np.reshape(coeff0,[1,12]),linestyle='none',marker='v',markersize=5,color='purple', zorder=7)\n",
    "\n",
    "\n",
    "plt.text(0.001, -0.05, 'Linear Regression',\n",
    "         color='green',\n",
    "     horizontalalignment='left',\n",
    "     verticalalignment='bottom',\n",
    "     transform = ax.transAxes)\n",
    "\n",
    "plt.text(0.005, 0,'$\\u03B1$ = 0.001',\n",
    "          color='red',\n",
    "     horizontalalignment='left',\n",
    "     verticalalignment='bottom',\n",
    "     transform = ax.transAxes)\n",
    "\n",
    "plt.text(0.005, 0.05,'$\\u03B1$ = 0.01',\n",
    "          color='blue',\n",
    "     horizontalalignment='left',\n",
    "     verticalalignment='bottom',\n",
    "     transform = ax.transAxes)\n",
    "plt.text(0.005, 0.1,'$\\u03B1$ = 0.1',\n",
    "          color='black',\n",
    "     horizontalalignment='left',\n",
    "     verticalalignment='bottom',\n",
    "     transform = ax.transAxes)\n",
    "plt.text(0.005, 0.15,'$\\u03B1$ = 1',\n",
    "          color='brown',\n",
    "     horizontalalignment='left',\n",
    "     verticalalignment='bottom',\n",
    "     transform = ax.transAxes)\n",
    "plt.text(0.005, 0.2,'$\\u03B1$ = 0',\n",
    "          color='purple',\n",
    "     horizontalalignment='left',\n",
    "     verticalalignment='bottom',\n",
    "     transform = ax.transAxes)\n",
    "plt.text(0.005, 0.25,'Lasso',\n",
    "          color='purple',\n",
    "     horizontalalignment='left',\n",
    "     verticalalignment='bottom',\n",
    "     transform = ax.transAxes)\n",
    "\n",
    "plt.show()"
   ]
  },
  {
   "cell_type": "code",
   "execution_count": null,
   "metadata": {},
   "outputs": [],
   "source": []
  }
 ],
 "metadata": {
  "kernelspec": {
   "display_name": "Python 3",
   "language": "python",
   "name": "python3"
  },
  "language_info": {
   "codemirror_mode": {
    "name": "ipython",
    "version": 3
   },
   "file_extension": ".py",
   "mimetype": "text/x-python",
   "name": "python",
   "nbconvert_exporter": "python",
   "pygments_lexer": "ipython3",
   "version": "3.7.3"
  }
 },
 "nbformat": 4,
 "nbformat_minor": 2
}
